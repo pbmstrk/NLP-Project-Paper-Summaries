{
  "nbformat": 4,
  "nbformat_minor": 0,
  "metadata": {
    "accelerator": "GPU",
    "colab": {
      "name": "Copy of Bag_of_Words.ipynb",
      "provenance": [],
      "collapsed_sections": [],
      "toc_visible": true
    },
    "kernelspec": {
      "name": "python3",
      "display_name": "Python 3"
    },
    "language_info": {
      "codemirror_mode": {
        "name": "ipython",
        "version": 3
      },
      "file_extension": ".py",
      "mimetype": "text/x-python",
      "name": "python",
      "nbconvert_exporter": "python",
      "pygments_lexer": "ipython3",
      "version": "3.7.3"
    }
  },
  "cells": [
    {
      "cell_type": "markdown",
      "metadata": {
        "colab_type": "text",
        "id": "mYbj7WHxZCWc"
      },
      "source": [
        "# Sentiment Analysis: Bag-of-Words (PyTorch)\n",
        "\n",
        "---\n",
        "\n",
        "\n",
        "\n",
        "\n"
      ]
    },
    {
      "cell_type": "markdown",
      "metadata": {
        "id": "UB-v_PAQWrJD",
        "colab_type": "text"
      },
      "source": [
        "The notebook is roughly divided into two sections: pre-processing and the actual model.\n",
        "\n",
        "## Setup and downloading data\n",
        "\n",
        "We use the Kaggle API to download the data. \n",
        "\n",
        "**N.B.** If you want to run the notebook you need to upload a `kaggle.json` file which contains your API credentials. Instructions for downloading the file from Kaggle can be found [here](https://github.com/Kaggle/kaggle-api)."
      ]
    },
    {
      "cell_type": "code",
      "metadata": {
        "id": "hG0htS1U6osw",
        "colab_type": "code",
        "colab": {}
      },
      "source": [
        "# install the kaggle API\n",
        "pip install kaggle -q"
      ],
      "execution_count": 0,
      "outputs": []
    },
    {
      "cell_type": "code",
      "metadata": {
        "colab_type": "code",
        "id": "UuOF6emZFysw",
        "colab": {}
      },
      "source": [
        "# data wrangling\n",
        "import pandas as pd\n",
        "import numpy as np\n",
        "from sklearn.model_selection import train_test_split\n",
        "\n",
        "# language model \n",
        "import spacy\n",
        "spacy_en = spacy.load('en')\n",
        "\n",
        "# pytorch\n",
        "import torch\n",
        "import torch.nn as nn\n",
        "import torch.nn.functional as F\n",
        "import torch.optim as optim\n",
        "from torch.utils import data\n",
        "\n",
        "from collections import Counter\n",
        "import copy\n",
        "import re\n",
        "import matplotlib.pyplot as plt\n",
        "import matplotlib "
      ],
      "execution_count": 0,
      "outputs": []
    },
    {
      "cell_type": "code",
      "metadata": {
        "id": "Q79QeYfz6TU-",
        "colab_type": "code",
        "colab": {}
      },
      "source": [
        "torch.backends.cudnn.deterministic = True"
      ],
      "execution_count": 0,
      "outputs": []
    },
    {
      "cell_type": "code",
      "metadata": {
        "colab_type": "code",
        "id": "CNTJbs7iRrsR",
        "outputId": "5f3ab213-6d0f-480a-acb2-3f17e0d68c34",
        "colab": {
          "base_uri": "https://localhost:8080/",
          "height": 33
        }
      },
      "source": [
        "device = torch.device(\"cuda\" if torch.cuda.is_available() else \"cpu\")\n",
        "device"
      ],
      "execution_count": 0,
      "outputs": [
        {
          "output_type": "execute_result",
          "data": {
            "text/plain": [
              "device(type='cuda')"
            ]
          },
          "metadata": {
            "tags": []
          },
          "execution_count": 4
        }
      ]
    },
    {
      "cell_type": "code",
      "metadata": {
        "id": "lITfFTkL6taS",
        "colab_type": "code",
        "outputId": "bd809d4a-d3cc-47c6-e70b-c353f0958281",
        "colab": {
          "resources": {
            "http://localhost:8080/nbextensions/google.colab/files.js": {
              "data": "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",
              "ok": true,
              "headers": [
                [
                  "content-type",
                  "application/javascript"
                ]
              ],
              "status": 200,
              "status_text": ""
            }
          },
          "base_uri": "https://localhost:8080/",
          "height": 70
        }
      },
      "source": [
        "# upload kaggle.json file\n",
        "from google.colab import files\n",
        "uploaded = files.upload()"
      ],
      "execution_count": 0,
      "outputs": [
        {
          "output_type": "display_data",
          "data": {
            "text/html": [
              "\n",
              "     <input type=\"file\" id=\"files-b1a8b236-46e9-4c67-a278-92b46b930369\" name=\"files[]\" multiple disabled />\n",
              "     <output id=\"result-b1a8b236-46e9-4c67-a278-92b46b930369\">\n",
              "      Upload widget is only available when the cell has been executed in the\n",
              "      current browser session. Please rerun this cell to enable.\n",
              "      </output>\n",
              "      <script src=\"/nbextensions/google.colab/files.js\"></script> "
            ],
            "text/plain": [
              "<IPython.core.display.HTML object>"
            ]
          },
          "metadata": {
            "tags": []
          }
        },
        {
          "output_type": "stream",
          "text": [
            "Saving kaggle.json to kaggle.json\n"
          ],
          "name": "stdout"
        }
      ]
    },
    {
      "cell_type": "code",
      "metadata": {
        "id": "MPDGQL0L6xg0",
        "colab_type": "code",
        "colab": {}
      },
      "source": [
        "!mkdir -p ~/.kaggle\n",
        "!cp kaggle.json ~/.kaggle/\n",
        "!chmod 600 ~/.kaggle/kaggle.json"
      ],
      "execution_count": 0,
      "outputs": []
    },
    {
      "cell_type": "code",
      "metadata": {
        "id": "iwgL3sGE6zjS",
        "colab_type": "code",
        "outputId": "c8f2f2b1-d237-4c4a-9ffd-892413d1e329",
        "colab": {
          "base_uri": "https://localhost:8080/",
          "height": 212
        }
      },
      "source": [
        "# download the dataset and unzip\n",
        "!kaggle competitions download sentiment-analysis-on-movie-reviews\n",
        "!unzip train.tsv.zip"
      ],
      "execution_count": 0,
      "outputs": [
        {
          "output_type": "stream",
          "text": [
            "Warning: Looks like you're using an outdated API Version, please consider updating (server 1.5.6 / client 1.5.4)\n",
            "Downloading test.tsv.zip to /content\n",
            "\r  0% 0.00/494k [00:00<?, ?B/s]\n",
            "100% 494k/494k [00:00<00:00, 74.0MB/s]\n",
            "Downloading sampleSubmission.csv to /content\n",
            "  0% 0.00/583k [00:00<?, ?B/s]\n",
            "100% 583k/583k [00:00<00:00, 78.2MB/s]\n",
            "Downloading train.tsv.zip to /content\n",
            "  0% 0.00/1.28M [00:00<?, ?B/s]\n",
            "100% 1.28M/1.28M [00:00<00:00, 83.9MB/s]\n",
            "Archive:  train.tsv.zip\n",
            "  inflating: train.tsv               \n"
          ],
          "name": "stdout"
        }
      ]
    },
    {
      "cell_type": "markdown",
      "metadata": {
        "colab_type": "text",
        "id": "wlzIl7xMrY51"
      },
      "source": [
        "## Pre-processing \n",
        "\n",
        "The model cannot accept strings as input, thus in this section we convert each element of the dataset into an integer-encoded vector."
      ]
    },
    {
      "cell_type": "markdown",
      "metadata": {
        "id": "xZI8hXWE7e9U",
        "colab_type": "text"
      },
      "source": [
        "###  Text processing\n",
        "\n",
        "Descriptions:\n",
        "- `tokenizer`: function that takes as input a string of text and returns a list of tokens \n",
        "- `Vocabularly`: class that stores the vocab found in the dataset and creates a mapping from token to integer"
      ]
    },
    {
      "cell_type": "code",
      "metadata": {
        "colab_type": "code",
        "id": "pZuiHLj2WHBy",
        "colab": {}
      },
      "source": [
        "def tokenizer(text): \n",
        "    text = text.lower()\n",
        "    text = re.sub(\"-rrb-\",\"\", text)\n",
        "    text = re.sub(\"-lrb-\",\"\", text)\n",
        "    tokens = spacy_en.tokenizer(text)\n",
        "    #tokens = [tok for tok in tokens if tok.is_stop == False]\n",
        "    tokens = [tok.lemma_ for tok in tokens]\n",
        "    return tokens"
      ],
      "execution_count": 0,
      "outputs": []
    },
    {
      "cell_type": "code",
      "metadata": {
        "colab_type": "code",
        "id": "_l0ennpbrfrl",
        "colab": {}
      },
      "source": [
        "class Vocabulary:\n",
        "      \n",
        "    def __init__(self, vocabCount, min_freq):\n",
        "        \n",
        "        # N.B. normally 0 would always correspond to a padding token,\n",
        "        # however with our implementation we don't need padding,\n",
        "        # and as such it can be used as an UNK token\n",
        "\n",
        "        # UNK tokens (don't need pad token for bag-of-words)\n",
        "        self.UNK_token = 0\n",
        "        self.vocabCount = vocabCount\n",
        "        self.min_freq = min_freq\n",
        "        # initialize list of words and vocab dictionary\n",
        "        self.wordlist = [\"<unk>\"]\n",
        "        self.word2index = {}\n",
        "        # build vocab\n",
        "        self.build_vocab(vocabCount)\n",
        "\n",
        "    def __len__(self):\n",
        "        return len(self.word2index)\n",
        "\n",
        "    def __getitem__(self, word):\n",
        "        return self.word2index.get(word, 0)\n",
        "\n",
        "    def __iter__(self):\n",
        "        return iter(vocab.word2index)\n",
        "\n",
        "    def build_vocab(self, vocabCount):\n",
        "        # sort vocab s.t. words that occur most frequently added first\n",
        "        svocabCount = {k: v for k, v in reversed(sorted(vocabCount.items(), \n",
        "                                                      key=lambda item: item[1]))}\n",
        "        \n",
        "        for word in svocabCount:\n",
        "            if svocabCount[word] >= self.min_freq:\n",
        "                self.wordlist.append(word)\n",
        "        self.word2index.update({tok: i for i, tok in enumerate(self.wordlist)})"
      ],
      "execution_count": 0,
      "outputs": []
    },
    {
      "cell_type": "markdown",
      "metadata": {
        "colab_type": "text",
        "id": "X7x1zIbDX9Dy"
      },
      "source": [
        "### Loading and processing data"
      ]
    },
    {
      "cell_type": "code",
      "metadata": {
        "colab_type": "code",
        "id": "0vxFaGmkGHpF",
        "colab": {}
      },
      "source": [
        "train_data = pd.read_csv('/content/train.tsv', sep=\"\\t\", \n",
        "                         encoding=\"utf_8_sig\")\n",
        "\n",
        "phrases = np.array(train_data.iloc[:, 2])\n",
        "target = np.array(train_data.iloc[:, 3])\n",
        "\n",
        "# create train and validation sets\n",
        "X_train , X_val, y_train , y_val = train_test_split(phrases, target, \n",
        "                                                    test_size = 0.2, random_state=42)\n",
        "\n",
        "# create validation and test sets\n",
        "X_val , X_test, y_val , y_test = train_test_split(X_val, y_val, \n",
        "                                                    test_size = 0.4, random_state=42)"
      ],
      "execution_count": 0,
      "outputs": []
    },
    {
      "cell_type": "markdown",
      "metadata": {
        "colab_type": "text",
        "id": "dQMnv1F1ZoPh"
      },
      "source": [
        "Convert each string into a list of words, using `tokenizer` function."
      ]
    },
    {
      "cell_type": "code",
      "metadata": {
        "colab_type": "code",
        "id": "BU8Ue_D6MiA6",
        "colab": {}
      },
      "source": [
        "X_train = [tokenizer(phrase) for phrase in X_train]\n",
        "X_val = [tokenizer(phrase) for phrase in X_val]\n",
        "X_test = [tokenizer(phrase) for phrase in X_test]"
      ],
      "execution_count": 0,
      "outputs": []
    },
    {
      "cell_type": "code",
      "metadata": {
        "colab_type": "code",
        "id": "IU3QVOq-OdVU",
        "outputId": "384f401a-cfa0-46ec-bb67-15c89e856766",
        "colab": {
          "base_uri": "https://localhost:8080/",
          "height": 66
        }
      },
      "source": [
        "print(\"Length of train dataset: {} \\nLength of validation dataset: {} \\nLength of test dataset: {}\".format(len(X_train), len(X_val), len(X_test)))"
      ],
      "execution_count": 0,
      "outputs": [
        {
          "output_type": "stream",
          "text": [
            "Length of train dataset: 124848 \n",
            "Length of validation dataset: 18727 \n",
            "Length of test dataset: 12485\n"
          ],
          "name": "stdout"
        }
      ]
    },
    {
      "cell_type": "markdown",
      "metadata": {
        "colab_type": "text",
        "id": "P7kkx0UzfFre"
      },
      "source": [
        "### Creating vocabularly"
      ]
    },
    {
      "cell_type": "code",
      "metadata": {
        "colab_type": "code",
        "id": "hmPXl7aGNBh4",
        "colab": {}
      },
      "source": [
        "# go through each token in training set and add to dictionary\n",
        "vocabCount = Counter([item for sublist in X_train for item in sublist])"
      ],
      "execution_count": 0,
      "outputs": []
    },
    {
      "cell_type": "code",
      "metadata": {
        "colab_type": "code",
        "id": "-VSpYtzQlv-e",
        "colab": {}
      },
      "source": [
        "# use dictionary to build vocab\n",
        "vocab = Vocabulary(vocabCount, 1)"
      ],
      "execution_count": 0,
      "outputs": []
    },
    {
      "cell_type": "markdown",
      "metadata": {
        "colab_type": "text",
        "id": "_vsCWWRjZkpV"
      },
      "source": [
        "### Converting tokens to integers"
      ]
    },
    {
      "cell_type": "code",
      "metadata": {
        "colab_type": "code",
        "id": "S3qO5seuNUhu",
        "colab": {}
      },
      "source": [
        "X_trainNum = [torch.tensor([vocab[word] for word in phrase]) for phrase in X_train]\n",
        "X_valNum = [torch.tensor([vocab[word] for word in phrase]) for phrase in X_val]\n",
        "X_testNum = [torch.tensor([vocab[word] for word in phrase]) for phrase in X_test]"
      ],
      "execution_count": 0,
      "outputs": []
    },
    {
      "cell_type": "markdown",
      "metadata": {
        "id": "GrV5nB4PU3f2",
        "colab_type": "text"
      },
      "source": [
        "Our pre-processing might have resulted in some now empty lists. These can cause problems later so we just fil them with padding (another possibility would be to remove these examples as they contain no useful information)."
      ]
    },
    {
      "cell_type": "code",
      "metadata": {
        "colab_type": "code",
        "id": "H92tsfWHszGf",
        "outputId": "f813ee99-01e3-42dc-8162-5295b26ae088",
        "colab": {
          "base_uri": "https://localhost:8080/",
          "height": 50
        }
      },
      "source": [
        "# make sure each tensor actually has values\n",
        "for i, el in enumerate(X_trainNum):\n",
        "    if el.nelement() == 0:\n",
        "        print(i)\n",
        "        X_trainNum[i] = torch.tensor([0]).long()\n",
        "\n",
        "# make sure each tensor actually has values\n",
        "for i, el in enumerate(X_valNum):\n",
        "    if el.nelement() == 0:\n",
        "        print(i)\n",
        "        X_valNum[i] = torch.tensor([0]).long()\n",
        "\n",
        "# make sure each tensor actually has values\n",
        "for i, el in enumerate(X_testNum):\n",
        "    if el.nelement() == 0:\n",
        "        print(i)\n",
        "        X_testNum[i] = torch.tensor([0]).long()"
      ],
      "execution_count": 0,
      "outputs": [
        {
          "output_type": "stream",
          "text": [
            "43785\n",
            "7117\n"
          ],
          "name": "stdout"
        }
      ]
    },
    {
      "cell_type": "markdown",
      "metadata": {
        "colab_type": "text",
        "id": "ZPRCHd-bZ4Jp"
      },
      "source": [
        "##  Bag of vectors \n",
        "\n",
        "We convert each word in a sentence into an embedding, as each sentence may have a different number of words, we use a pooling operation to convert the variable number of word embeddings into a fixed representation. Options for the pooling operation are `mean`, `sum` and a variety of elementwise operations.\n",
        "\n",
        "Thus, in our model we simply have an embedding layer and a pooling operation, we then feed the resulting representation into an MLP. In PyTorch, there is a function `EmbeddingBag` that implements the embedding and pooling/reduction."
      ]
    },
    {
      "cell_type": "markdown",
      "metadata": {
        "colab_type": "text",
        "id": "EozVu_o0n_3n"
      },
      "source": [
        "### Custom dataset class and batching function"
      ]
    },
    {
      "cell_type": "code",
      "metadata": {
        "colab_type": "code",
        "id": "bcIU7hCQaRc0",
        "colab": {}
      },
      "source": [
        "class WordDataset(data.Dataset):\n",
        "    \n",
        "    def __init__(self, X, y):\n",
        "        self.X = X\n",
        "        self.y = y\n",
        "        \n",
        "    def __len__(self):\n",
        "        return len(self.y)\n",
        "    \n",
        "    def __getitem__(self, idx):  \n",
        "        X = self.X[idx]\n",
        "        Y = self.y[idx]\n",
        "        return X, Y"
      ],
      "execution_count": 0,
      "outputs": []
    },
    {
      "cell_type": "markdown",
      "metadata": {
        "id": "RwFJvtSlXiJN",
        "colab_type": "text"
      },
      "source": [
        "The `generate_batch` function processes each batch that is returned by the DataLoader."
      ]
    },
    {
      "cell_type": "code",
      "metadata": {
        "colab_type": "code",
        "id": "kqC2vHYjaRha",
        "colab": {}
      },
      "source": [
        "def generate_batch(batch):\n",
        "    \n",
        "    # get data and targets from batch\n",
        "    data = [item[0] for item in batch]\n",
        "    targets = [item[1] for item in batch]\n",
        "    lengths = [len(el) for el in data]\n",
        "    offsets = np.cumsum(lengths)\n",
        "    offsets = np.concatenate([[0], offsets[:-1]])\n",
        "  \n",
        "    return torch.LongTensor(torch.cat(data).long()), torch.Tensor(targets).long(), torch.LongTensor(offsets)"
      ],
      "execution_count": 0,
      "outputs": []
    },
    {
      "cell_type": "code",
      "metadata": {
        "colab_type": "code",
        "id": "dYnatxHhoYPX",
        "colab": {}
      },
      "source": [
        "trainingset = WordDataset(X_trainNum, y_train)\n",
        "valset = WordDataset(X_valNum, y_val)\n",
        "testset = WordDataset(X_testNum, y_test)"
      ],
      "execution_count": 0,
      "outputs": []
    },
    {
      "cell_type": "code",
      "metadata": {
        "colab_type": "code",
        "id": "kTEWQ12eobmj",
        "colab": {}
      },
      "source": [
        "training_generator = data.DataLoader(trainingset, batch_size=64, collate_fn=generate_batch)\n",
        "val_generator = data.DataLoader(valset, batch_size=len(y_val), collate_fn=generate_batch)\n",
        "test_generator = data.DataLoader(testset, batch_size=len(y_test), collate_fn=generate_batch)"
      ],
      "execution_count": 0,
      "outputs": []
    },
    {
      "cell_type": "code",
      "metadata": {
        "colab_type": "code",
        "id": "wkmdPpexrKcK",
        "colab": {}
      },
      "source": [
        "training_eval = data.DataLoader(trainingset, batch_size=1024, collate_fn = generate_batch)"
      ],
      "execution_count": 0,
      "outputs": []
    },
    {
      "cell_type": "markdown",
      "metadata": {
        "colab_type": "text",
        "id": "5zqHrSFkoFp5"
      },
      "source": [
        "### Training function"
      ]
    },
    {
      "cell_type": "code",
      "metadata": {
        "colab_type": "code",
        "id": "W3hSRCvPoWTo",
        "colab": {}
      },
      "source": [
        "def train(m, lossFun, optim, scheduler, epochs, train_loader, val_loader, train_eval,\n",
        "          saveModel = False, verbose=False):\n",
        "\n",
        "    print(\"Summary of model\\n\")\n",
        "    print(m)\n",
        "    print(\"\\n\")\n",
        "\n",
        "    # initialize lists to store loss and accuracy\n",
        "    trainLossVec , valLossVec, trainAccuracyVec, valAccuracyVec = [], [], [], []\n",
        "    bestLoss, bestEpoch = 100, 0\n",
        "\n",
        "    # get number of batches\n",
        "    numberBatches = len(train_loader)\n",
        "\n",
        "    for epoch in range(epochs):\n",
        "\n",
        "        # Set model to training mode\n",
        "        m.train()\n",
        "    \n",
        "        # Loop over each batch from the training set\n",
        "        for batch_idx, (inputs, targets, offsets) in enumerate(train_loader):\n",
        "            \n",
        "            # Zero gradient buffers\n",
        "            optim.zero_grad()\n",
        "            # Foward pass and compute loss on batch\n",
        "            outputs = m(inputs.to(device), offsets.to(device))\n",
        "            batchloss = lossFun(outputs, targets.to(device))\n",
        "            # Backpropagate and update weights\n",
        "            batchloss.backward()\n",
        "            # gradient clipping\n",
        "            torch.nn.utils.clip_grad_norm_(m.parameters(), 1., norm_type=2)\n",
        "            # optimizer step\n",
        "            optim.step()\n",
        "    \n",
        "        # set model to evaluation mode\n",
        "        m.eval()\n",
        "        with torch.no_grad():\n",
        "            \n",
        "            # evaluate model on training and validation data\n",
        "            acc, loss = evalModel(m, {\"train\": train_eval, \"val\": val_loader}, lossFun)\n",
        "            # update accuracy\n",
        "            trainAccuracyVec.append(acc[\"train\"])\n",
        "            valAccuracyVec.append(acc[\"val\"])\n",
        "            # update loss\n",
        "            trainLossVec.append(loss[\"train\"])\n",
        "            valLossVec.append(loss[\"val\"])\n",
        "\n",
        "            # opportunity to not include a scheduler\n",
        "            if scheduler != None:\n",
        "                scheduler.step()\n",
        "    \n",
        "            # check if new best for validation accuracy\n",
        "            if valLossVec[-1] < bestLoss:\n",
        "                bestLoss = valLossVec[-1]\n",
        "                bestEpoch = epoch\n",
        "                if saveModel == True:\n",
        "                    torch.save(m.state_dict(), \"bestModel.pt\")\n",
        "                    print(\"New best value for validation loss: Saved model to bestModel.pt\")\n",
        "            \n",
        "            # print information about training progress\n",
        "            if verbose == True:\n",
        "                print((\"Epoch: {} \\t Loss (train): {:.3f} (val): {:.3f} \\t\" +\n",
        "              \"Acc (train) {:.3f} (val): {:.3f}\").format(epoch + 1,\n",
        "                            trainLossVec[-1], valLossVec[-1], trainAccuracyVec[-1], valAccuracyVec[-1]))\n",
        "            # clean up\n",
        "            del inputs, targets, outputs, acc, loss\n",
        "\n",
        "    return trainLossVec, valLossVec, trainAccuracyVec, valAccuracyVec, bestEpoch"
      ],
      "execution_count": 0,
      "outputs": []
    },
    {
      "cell_type": "markdown",
      "metadata": {
        "id": "B42TNO0AVTZY",
        "colab_type": "text"
      },
      "source": [
        "The `evalModel` function is more complicated than perhaps necessary - the original goal was that `compute_metrics` could be changed to compute any metric given the targets and the predicted values. Thus, the `evalModel` first has to compute all predictions before the metrics can be calculated."
      ]
    },
    {
      "cell_type": "code",
      "metadata": {
        "colab_type": "code",
        "id": "bms1S-ECoWVk",
        "colab": {}
      },
      "source": [
        "def evalModel(model, dataDict, lossFun):\n",
        "    \n",
        "    keys = list(dataDict.keys())\n",
        "    values = [0] * len(keys)\n",
        "\n",
        "    acc = dict(zip(keys, values))\n",
        "    lossDict = dict(zip(keys, values))\n",
        "\n",
        "    model.eval()\n",
        "    with torch.no_grad():\n",
        "        for data in dataDict.keys():\n",
        "\n",
        "            out = []\n",
        "            tar = []\n",
        "\n",
        "            for (inputs, targets, offsets) in dataDict[data]:\n",
        "\n",
        "                tar.append(targets)\n",
        "                outputs = model(inputs.to(device), offsets.to(device))\n",
        "                out.append(outputs)\n",
        "\n",
        "            # concatenate outputs to pass to compute_metrics() function\n",
        "            out = torch.cat(out, dim=0)\n",
        "            tar = torch.cat(tar)\n",
        "\n",
        "            accVal, lossVal = compute_metrics(out, tar, lossFun)\n",
        "            acc[data] = accVal * 100\n",
        "            lossDict[data] = lossVal\n",
        "\n",
        "            # clean up\n",
        "            del inputs, targets, outputs\n",
        "\n",
        "    return acc, lossDict"
      ],
      "execution_count": 0,
      "outputs": []
    },
    {
      "cell_type": "code",
      "metadata": {
        "id": "Q_pS00q3B72b",
        "colab_type": "code",
        "colab": {}
      },
      "source": [
        "def compute_metrics(outputs, targets, loss):\n",
        "\n",
        "  lossVal = loss(outputs.to(device), targets.to(device)).item()\n",
        "\n",
        "  _, pred = torch.max(outputs.data, 1)\n",
        "  correct = (pred == targets.to(device)).sum().item()\n",
        "\n",
        "  accVal = correct/len(targets)\n",
        "\n",
        "  return accVal, lossVal"
      ],
      "execution_count": 0,
      "outputs": []
    },
    {
      "cell_type": "markdown",
      "metadata": {
        "colab_type": "text",
        "id": "t1GjUttBspnL"
      },
      "source": [
        "### Model"
      ]
    },
    {
      "cell_type": "code",
      "metadata": {
        "colab_type": "code",
        "id": "g6IfM4wroJYp",
        "colab": {}
      },
      "source": [
        "class BagofVector(nn.Module):\n",
        "    \n",
        "    def __init__(self, embeddingDIM, hiddenDIM1, hiddenDIM2, \n",
        "               ouputDIM, vocab_size, pooling=\"sum\"):\n",
        "        \n",
        "        super(BagofVector, self).__init__()\n",
        "        self.embedding = nn.EmbeddingBag(vocab_size, embeddingDIM, mode=pooling)\n",
        "        self.linear1 = nn.Linear(embeddingDIM, hiddenDIM1)\n",
        "        self.linear2 = nn.Linear(hiddenDIM1, hiddenDIM2)\n",
        "        self.linear3 = nn.Linear(hiddenDIM2, ouputDIM)\n",
        "        self.dropout = nn.Dropout()\n",
        "        \n",
        "    def forward(self, inputs, offsets):\n",
        "\n",
        "        x = self.embedding(inputs, offsets)\n",
        "        x = self.dropout(F.relu(self.linear1(x)))\n",
        "        x = self.dropout(F.relu(self.linear2(x)))\n",
        "        x = self.linear3(x)\n",
        "        return x"
      ],
      "execution_count": 0,
      "outputs": []
    },
    {
      "cell_type": "code",
      "metadata": {
        "colab_type": "code",
        "id": "NZkxVZcQoWZS",
        "colab": {}
      },
      "source": [
        "torch.manual_seed(42)\n",
        "mlp = BagofVector(300, 128, 64, 5, len(vocab), \"sum\").to(device)\n",
        "optimizer = optim.Adam(mlp.parameters(), lr = 1e-4)\n",
        "scheduler = optim.lr_scheduler.StepLR(optimizer, step_size=5, gamma=0.8) \n",
        "loss = nn.CrossEntropyLoss()"
      ],
      "execution_count": 0,
      "outputs": []
    },
    {
      "cell_type": "code",
      "metadata": {
        "colab_type": "code",
        "id": "i0iL19ITozfr",
        "outputId": "739c4074-0e3d-49d5-ad1b-fc7d9f136543",
        "colab": {
          "base_uri": "https://localhost:8080/",
          "height": 1000
        }
      },
      "source": [
        "trainLossVec, valLossVec, trainAccVec, valAccVec, bEpoch = train(mlp, loss, optimizer, scheduler, 50, \n",
        "                                      training_generator, val_generator, \n",
        "                                      training_eval, verbose=True, saveModel=True)"
      ],
      "execution_count": 0,
      "outputs": [
        {
          "output_type": "stream",
          "text": [
            "Summary of model\n",
            "\n",
            "BagofVector(\n",
            "  (embedding): EmbeddingBag(12133, 300, mode=sum)\n",
            "  (linear1): Linear(in_features=300, out_features=128, bias=True)\n",
            "  (linear2): Linear(in_features=128, out_features=64, bias=True)\n",
            "  (linear3): Linear(in_features=64, out_features=5, bias=True)\n",
            "  (dropout): Dropout(p=0.5, inplace=False)\n",
            ")\n",
            "\n",
            "\n",
            "New best value for validation loss: Saved model to bestModel.pt\n",
            "Epoch: 1 \t Loss (train): 1.232 (val): 1.245 \tAcc (train) 51.577 (val): 50.654\n",
            "New best value for validation loss: Saved model to bestModel.pt\n",
            "Epoch: 2 \t Loss (train): 1.178 (val): 1.197 \tAcc (train) 52.635 (val): 51.733\n",
            "New best value for validation loss: Saved model to bestModel.pt\n",
            "Epoch: 3 \t Loss (train): 1.128 (val): 1.154 \tAcc (train) 54.222 (val): 53.532\n",
            "New best value for validation loss: Saved model to bestModel.pt\n",
            "Epoch: 4 \t Loss (train): 1.078 (val): 1.113 \tAcc (train) 56.075 (val): 54.664\n",
            "New best value for validation loss: Saved model to bestModel.pt\n",
            "Epoch: 5 \t Loss (train): 1.035 (val): 1.078 \tAcc (train) 57.540 (val): 56.005\n",
            "New best value for validation loss: Saved model to bestModel.pt\n",
            "Epoch: 6 \t Loss (train): 1.002 (val): 1.052 \tAcc (train) 58.775 (val): 57.329\n",
            "New best value for validation loss: Saved model to bestModel.pt\n",
            "Epoch: 7 \t Loss (train): 0.972 (val): 1.029 \tAcc (train) 60.117 (val): 58.151\n",
            "New best value for validation loss: Saved model to bestModel.pt\n",
            "Epoch: 8 \t Loss (train): 0.946 (val): 1.009 \tAcc (train) 61.079 (val): 58.926\n",
            "New best value for validation loss: Saved model to bestModel.pt\n",
            "Epoch: 9 \t Loss (train): 0.923 (val): 0.990 \tAcc (train) 61.939 (val): 59.609\n",
            "New best value for validation loss: Saved model to bestModel.pt\n",
            "Epoch: 10 \t Loss (train): 0.901 (val): 0.975 \tAcc (train) 62.903 (val): 60.383\n",
            "New best value for validation loss: Saved model to bestModel.pt\n",
            "Epoch: 11 \t Loss (train): 0.885 (val): 0.964 \tAcc (train) 63.456 (val): 60.864\n",
            "New best value for validation loss: Saved model to bestModel.pt\n",
            "Epoch: 12 \t Loss (train): 0.869 (val): 0.953 \tAcc (train) 64.161 (val): 61.393\n",
            "New best value for validation loss: Saved model to bestModel.pt\n",
            "Epoch: 13 \t Loss (train): 0.856 (val): 0.945 \tAcc (train) 64.684 (val): 61.670\n",
            "New best value for validation loss: Saved model to bestModel.pt\n",
            "Epoch: 14 \t Loss (train): 0.843 (val): 0.935 \tAcc (train) 65.167 (val): 61.895\n",
            "New best value for validation loss: Saved model to bestModel.pt\n",
            "Epoch: 15 \t Loss (train): 0.831 (val): 0.928 \tAcc (train) 65.635 (val): 62.231\n",
            "New best value for validation loss: Saved model to bestModel.pt\n",
            "Epoch: 16 \t Loss (train): 0.821 (val): 0.921 \tAcc (train) 66.050 (val): 62.461\n",
            "New best value for validation loss: Saved model to bestModel.pt\n",
            "Epoch: 17 \t Loss (train): 0.812 (val): 0.916 \tAcc (train) 66.383 (val): 62.776\n",
            "New best value for validation loss: Saved model to bestModel.pt\n",
            "Epoch: 18 \t Loss (train): 0.804 (val): 0.912 \tAcc (train) 66.614 (val): 62.856\n",
            "New best value for validation loss: Saved model to bestModel.pt\n",
            "Epoch: 19 \t Loss (train): 0.795 (val): 0.908 \tAcc (train) 66.967 (val): 63.069\n",
            "New best value for validation loss: Saved model to bestModel.pt\n",
            "Epoch: 20 \t Loss (train): 0.787 (val): 0.902 \tAcc (train) 67.432 (val): 63.368\n",
            "New best value for validation loss: Saved model to bestModel.pt\n",
            "Epoch: 21 \t Loss (train): 0.782 (val): 0.900 \tAcc (train) 67.617 (val): 63.390\n",
            "New best value for validation loss: Saved model to bestModel.pt\n",
            "Epoch: 22 \t Loss (train): 0.776 (val): 0.897 \tAcc (train) 67.875 (val): 63.748\n",
            "New best value for validation loss: Saved model to bestModel.pt\n",
            "Epoch: 23 \t Loss (train): 0.770 (val): 0.893 \tAcc (train) 68.129 (val): 63.699\n",
            "New best value for validation loss: Saved model to bestModel.pt\n",
            "Epoch: 24 \t Loss (train): 0.764 (val): 0.891 \tAcc (train) 68.359 (val): 63.902\n",
            "New best value for validation loss: Saved model to bestModel.pt\n",
            "Epoch: 25 \t Loss (train): 0.758 (val): 0.888 \tAcc (train) 68.658 (val): 64.111\n",
            "New best value for validation loss: Saved model to bestModel.pt\n",
            "Epoch: 26 \t Loss (train): 0.754 (val): 0.887 \tAcc (train) 68.841 (val): 64.159\n",
            "New best value for validation loss: Saved model to bestModel.pt\n",
            "Epoch: 27 \t Loss (train): 0.750 (val): 0.885 \tAcc (train) 68.978 (val): 64.287\n",
            "New best value for validation loss: Saved model to bestModel.pt\n",
            "Epoch: 28 \t Loss (train): 0.745 (val): 0.883 \tAcc (train) 69.249 (val): 64.468\n",
            "New best value for validation loss: Saved model to bestModel.pt\n",
            "Epoch: 29 \t Loss (train): 0.742 (val): 0.882 \tAcc (train) 69.310 (val): 64.335\n",
            "New best value for validation loss: Saved model to bestModel.pt\n",
            "Epoch: 30 \t Loss (train): 0.738 (val): 0.881 \tAcc (train) 69.472 (val): 64.474\n",
            "New best value for validation loss: Saved model to bestModel.pt\n",
            "Epoch: 31 \t Loss (train): 0.735 (val): 0.879 \tAcc (train) 69.623 (val): 64.581\n",
            "New best value for validation loss: Saved model to bestModel.pt\n",
            "Epoch: 32 \t Loss (train): 0.732 (val): 0.878 \tAcc (train) 69.688 (val): 64.554\n",
            "New best value for validation loss: Saved model to bestModel.pt\n",
            "Epoch: 33 \t Loss (train): 0.729 (val): 0.875 \tAcc (train) 69.889 (val): 64.682\n",
            "Epoch: 34 \t Loss (train): 0.726 (val): 0.875 \tAcc (train) 69.990 (val): 64.810\n",
            "New best value for validation loss: Saved model to bestModel.pt\n",
            "Epoch: 35 \t Loss (train): 0.723 (val): 0.874 \tAcc (train) 70.093 (val): 64.896\n",
            "Epoch: 36 \t Loss (train): 0.721 (val): 0.874 \tAcc (train) 70.132 (val): 64.858\n",
            "New best value for validation loss: Saved model to bestModel.pt\n",
            "Epoch: 37 \t Loss (train): 0.719 (val): 0.874 \tAcc (train) 70.253 (val): 64.864\n",
            "New best value for validation loss: Saved model to bestModel.pt\n",
            "Epoch: 38 \t Loss (train): 0.717 (val): 0.872 \tAcc (train) 70.338 (val): 65.002\n",
            "Epoch: 39 \t Loss (train): 0.714 (val): 0.872 \tAcc (train) 70.454 (val): 64.912\n",
            "New best value for validation loss: Saved model to bestModel.pt\n",
            "Epoch: 40 \t Loss (train): 0.712 (val): 0.872 \tAcc (train) 70.551 (val): 65.024\n",
            "New best value for validation loss: Saved model to bestModel.pt\n",
            "Epoch: 41 \t Loss (train): 0.711 (val): 0.871 \tAcc (train) 70.595 (val): 65.056\n",
            "Epoch: 42 \t Loss (train): 0.709 (val): 0.871 \tAcc (train) 70.604 (val): 65.152\n",
            "New best value for validation loss: Saved model to bestModel.pt\n",
            "Epoch: 43 \t Loss (train): 0.707 (val): 0.870 \tAcc (train) 70.758 (val): 65.152\n",
            "New best value for validation loss: Saved model to bestModel.pt\n",
            "Epoch: 44 \t Loss (train): 0.706 (val): 0.870 \tAcc (train) 70.800 (val): 65.168\n",
            "New best value for validation loss: Saved model to bestModel.pt\n",
            "Epoch: 45 \t Loss (train): 0.704 (val): 0.869 \tAcc (train) 70.861 (val): 65.147\n",
            "New best value for validation loss: Saved model to bestModel.pt\n",
            "Epoch: 46 \t Loss (train): 0.702 (val): 0.869 \tAcc (train) 70.925 (val): 65.173\n",
            "New best value for validation loss: Saved model to bestModel.pt\n",
            "Epoch: 47 \t Loss (train): 0.701 (val): 0.869 \tAcc (train) 71.013 (val): 65.323\n",
            "New best value for validation loss: Saved model to bestModel.pt\n",
            "Epoch: 48 \t Loss (train): 0.700 (val): 0.868 \tAcc (train) 71.048 (val): 65.275\n",
            "Epoch: 49 \t Loss (train): 0.699 (val): 0.868 \tAcc (train) 71.069 (val): 65.248\n",
            "New best value for validation loss: Saved model to bestModel.pt\n",
            "Epoch: 50 \t Loss (train): 0.697 (val): 0.868 \tAcc (train) 71.118 (val): 65.280\n"
          ],
          "name": "stdout"
        }
      ]
    },
    {
      "cell_type": "markdown",
      "metadata": {
        "id": "QvVqaswIW0lh",
        "colab_type": "text"
      },
      "source": [
        "### Results"
      ]
    },
    {
      "cell_type": "code",
      "metadata": {
        "colab_type": "code",
        "id": "-eKY7MNWxrJH",
        "colab": {}
      },
      "source": [
        "bestModel = copy.deepcopy(mlp)\n",
        "bestModel.load_state_dict(torch.load(\"bestModel.pt\"))\n",
        "bestModel = bestModel.to(device)"
      ],
      "execution_count": 0,
      "outputs": []
    },
    {
      "cell_type": "code",
      "metadata": {
        "colab_type": "code",
        "id": "teQre_3UwmnV",
        "colab": {}
      },
      "source": [
        "accDict, lossDict = evalModel(bestModel, {\"test\": test_generator, \"train\": training_eval, \"val\": val_generator}, loss)"
      ],
      "execution_count": 0,
      "outputs": []
    },
    {
      "cell_type": "code",
      "metadata": {
        "colab_type": "code",
        "id": "08nvxbcEyEDY",
        "outputId": "54ba6fc5-79bb-4be9-c319-854e3a367d51",
        "colab": {
          "base_uri": "https://localhost:8080/",
          "height": 82
        }
      },
      "source": [
        "print(\"Accuracy: \\n{} \\nLoss: \\n{}\".format(accDict, lossDict))"
      ],
      "execution_count": 0,
      "outputs": [
        {
          "output_type": "stream",
          "text": [
            "Accuracy: \n",
            "{'test': 65.03804565478575, 'train': 71.11767909778291, 'val': 65.2800768943237} \n",
            "Loss: \n",
            "{'test': 0.8679651021957397, 'train': 0.6973986029624939, 'val': 0.8675891757011414}\n"
          ],
          "name": "stdout"
        }
      ]
    },
    {
      "cell_type": "code",
      "metadata": {
        "id": "-PW7pV3d4cQU",
        "colab_type": "code",
        "outputId": "a942e8dd-2d09-4521-8a3f-52615dfbf2c3",
        "colab": {
          "base_uri": "https://localhost:8080/",
          "height": 336
        }
      },
      "source": [
        "matplotlib.rcParams['axes.spines.top'] = False\n",
        "matplotlib.rcParams['axes.spines.right'] = False\n",
        "\n",
        "fig, (ax1, ax2) = plt.subplots(1, 2, figsize=(12,5))\n",
        "\n",
        "ax1.plot(range(len(valAccVec)), valAccVec, label = \"Validation\")\n",
        "ax1.plot(range(len(trainAccVec)), trainAccVec, label = \"Train\")\n",
        "ax1.grid(True, alpha=0.4)\n",
        "ax1.set_title(\"Accuracy\")\n",
        "ax1.legend()\n",
        "ax2.plot(range(len(valLossVec)), valLossVec, label = \"Validation\")\n",
        "ax2.plot(range(len(trainLossVec)), trainLossVec, label = \"Train\")\n",
        "ax2.grid(True, alpha=0.4)\n",
        "ax2.set_title(\"Loss\")\n",
        "ax2.legend()\n",
        "plt.show()"
      ],
      "execution_count": 0,
      "outputs": [
        {
          "output_type": "display_data",
          "data": {
            "image/png": "[encoded data removed]",
            "text/plain": [
              "<Figure size 864x360 with 2 Axes>"
            ]
          },
          "metadata": {
            "tags": [],
            "needs_background": "light"
          }
        }
      ]
    }
  ]
}